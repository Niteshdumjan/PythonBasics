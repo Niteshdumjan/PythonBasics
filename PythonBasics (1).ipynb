{
  "nbformat": 4,
  "nbformat_minor": 0,
  "metadata": {
    "colab": {
      "provenance": []
    },
    "kernelspec": {
      "name": "python3",
      "display_name": "Python 3"
    },
    "language_info": {
      "name": "python"
    }
  },
  "cells": [
    {
      "cell_type": "markdown",
      "source": [
        "#Python basics Questions"
      ],
      "metadata": {
        "id": "GqcImiBJF9oI"
      }
    },
    {
      "cell_type": "code",
      "execution_count": null,
      "metadata": {
        "id": "zgorJCuFF2nH"
      },
      "outputs": [],
      "source": [
        "# 1. What is Python , and why it is popular?\n",
        "\"\"\"\n",
        "Python is a high-level, interpreted  programing language Known for its simplicity\n",
        "and readability. It was created by Guido van Rossum and first released in 1991.\n",
        "Python is Popular Beacause it is Simple syntax similar to English.\n",
        "Simple syntax similar to English. Python has Rich Ecosystem and libraries\n",
        "Huge collection of libraries for various tasks (e.g., NumPy for data science,\n",
        "Django for web development, TensorFlow for AI). Python has wide range of Applications\n",
        "For Exmaple.\n",
        "Data Science, Machine Learning, Web Development, Automation, Game Development, and more.\n",
        "\"\"\"\n"
      ]
    },
    {
      "cell_type": "code",
      "source": [
        "# 2. What is interpretor in Python ?\n",
        "\n",
        "\"\"\"\n",
        "In Python, an interpreter is a program that executes Python code line by line.\n",
        "It read each line of  code and  translates it into machine language, and runs\n",
        "it immediately  no need for compiling like in languages such as C++ or Java.\n",
        "\n",
        "\"\"\""
      ],
      "metadata": {
        "id": "RaDrL0rvIp9Y"
      },
      "execution_count": null,
      "outputs": []
    },
    {
      "cell_type": "code",
      "source": [
        "#3. What are the pre-defined keywords in Python ?\n",
        "'''\n",
        "    In Python, keywords are reserved words that have special meanings and cannot be\n",
        "    used as variable names, function names, or identifiers. They form the building\n",
        "    blocks of Python syntax.\n",
        "    Some Example of Pre-defined keywords are;\n",
        "    Conditional Statement- if, else, elif\n",
        "    Loops and control flow- for, while, break, continue\n",
        "'''"
      ],
      "metadata": {
        "id": "Osy1YRk2JMSn"
      },
      "execution_count": null,
      "outputs": []
    },
    {
      "cell_type": "code",
      "source": [
        "# 4. Can keywords be used as variable names ?\n",
        "'''\n",
        "  No keywords cannot be used as variable names in Python. Keywords have special\n",
        "  meanings and are part of the Python syntax, so using them as variable names\n",
        "  would create conflicts and errors.\n",
        "\n",
        "  For Example:\n",
        "'''\n",
        "\n",
        "  # if = 10;\n",
        "  # print(if);\n"
      ],
      "metadata": {
        "colab": {
          "base_uri": "https://localhost:8080/",
          "height": 110
        },
        "id": "g24Lg6h2LFdQ",
        "outputId": "9eef19ba-5f9e-4d80-c553-9c9bc4c3e360"
      },
      "execution_count": null,
      "outputs": [
        {
          "output_type": "error",
          "ename": "IndentationError",
          "evalue": "unexpected indent (<ipython-input-1-1c632a878444>, line 3)",
          "traceback": [
            "\u001b[0;36m  File \u001b[0;32m\"<ipython-input-1-1c632a878444>\"\u001b[0;36m, line \u001b[0;32m3\u001b[0m\n\u001b[0;31m    \"\"\"\u001b[0m\n\u001b[0m    ^\u001b[0m\n\u001b[0;31mIndentationError\u001b[0m\u001b[0;31m:\u001b[0m unexpected indent\n"
          ]
        }
      ]
    },
    {
      "cell_type": "code",
      "source": [
        "# 5. What is Mutability in Python?\n",
        "\n",
        "'''\n",
        "  In Python, mutability refers to whether an object can be changed after it's\n",
        "  created\n",
        "\n",
        "  There are Two Types of Mutability Objects whicha are:\n",
        "\n",
        "  Mutable Object->  Objects/container whose state or value can be changed after they\n",
        "  created are called mutable objects.\n",
        "\n",
        "  Immutable Objects-> Objects/container whose state or value can not be changed\n",
        "  after they created are called immutable objects.\n",
        "'''"
      ],
      "metadata": {
        "id": "XCTGAh-DORxf"
      },
      "execution_count": null,
      "outputs": []
    },
    {
      "cell_type": "code",
      "source": [
        "# 6. Why are lists mutable , but tuples are immutable?\n",
        "'''\n",
        "  In Python, lists are mutable and tuples are immutable because of design\n",
        "  choices made to balance flexibility, performance, and safety.\n",
        "\n",
        "  List -> The Reasson` List are Muttable because\n",
        "  List are designed to be flexible containers for storing sequences of items\n",
        "  you can add, remove or mocify elements directly without creating a newl list.\n",
        "\n",
        "  Use Case of List:\n",
        "  List are use when data changes over time, such as adding items or updating\n",
        "  values\n",
        "\n",
        "  Tuples -> The Reason Tuples are Immutable because.\n",
        "  Tuples Represent fixed collection of items. Once created, they shouldn't\n",
        "  change any Change requires creating a new tuple\n",
        "\n",
        "'''"
      ],
      "metadata": {
        "id": "6yNM8ZeKP6L_"
      },
      "execution_count": null,
      "outputs": []
    },
    {
      "cell_type": "code",
      "source": [
        "# 7. What is different between  \"==\" and \"is\" Operator in Python ?\n",
        "\n",
        "'''\n",
        "In Python, == and is are two different operators that serve distinct purposes.\n",
        "\n",
        "Equal Operator(\"==\"):\n",
        "Compares the values of two objects.\n",
        "Returns True if the values are equal, even if they are stored at different\n",
        "memory locations.\n",
        "\n",
        "Identity Operator(\"is\"):\n",
        "Compares the memory addresses (object identity) of two objects.\n",
        "Returns True only if both objects point to the same memory location.\n",
        "\n",
        "'''\n"
      ],
      "metadata": {
        "id": "GF_1gphdSrHT"
      },
      "execution_count": null,
      "outputs": []
    },
    {
      "cell_type": "code",
      "source": [
        "# 8. What are logical operator in python ?\n",
        "'''\n",
        "  logical operators are used to combine conditional statements. They return either\n",
        "  True or False based on the conditions. Python has three logical operators:\n",
        "\n",
        "    (\"and\"): Returns True if both conditions are true.\n",
        "      Example:\n",
        "          x = 5\n",
        "          print(x>2 and x<10)\n",
        "          output: True\n",
        "    (\"or\"): Returns True if at least one condition is true.\n",
        "      Example:\n",
        "          x = 5\n",
        "          print(x>2 or x<4)\n",
        "          output: True\n",
        "\n",
        "    (\"not\"): Reverses the result — returns False if the condition is true,\n",
        "    and True if the condition is false.\n",
        "      Example:\n",
        "          x = 5\n",
        "          print(not(x>3 and x<10))\n",
        "          output: False\n",
        "'''"
      ],
      "metadata": {
        "id": "wuwCjoitRYrR",
        "collapsed": true
      },
      "execution_count": null,
      "outputs": []
    },
    {
      "cell_type": "code",
      "source": [
        "# 9. What is type casting in Python ?\n",
        "'''\n",
        "  Type casting is the process of converting the data type of a value to another\n",
        "  data type.\n",
        "\n",
        "  Python has two types of type conversion.\n",
        "  1. Implicit Type Conversion:\n",
        "    > PYTHON UNDERSTAND THE DTATA TYPE AND CONVERT IT TO THE HIGHER DATA TYPE\n",
        "\n",
        "  2. Explicit Type Conversion:\n",
        "    > IN EXPLICIT TYPECASTING WE CONVERT THE DATA TYPE TO THE LOWER DATA TYPE\n",
        "\n",
        "'''"
      ],
      "metadata": {
        "id": "rOGx9ais5G_m"
      },
      "execution_count": null,
      "outputs": []
    },
    {
      "cell_type": "code",
      "source": [
        "# 10. What is the difference between implicit and explicit type casting ?\n",
        "\n",
        "'''\n",
        "  The difference between the implicit and explicit type Casting are :\n",
        "\n",
        "  > Implicit                        | > Explicit\n",
        "    The Python understand the data  | In Explicit type casting we convert the data\n",
        "    type and convert it to the      | to the lower data type\n",
        "    higher data type                |\n",
        "\n",
        "    Python automatically converts   | Needed when Python can't automatically\n",
        "    one data type to another when   | convert or when you want to force a\n",
        "    no data is lost                 | particular type.\n",
        "\n",
        "\n",
        "\n",
        "'''\n"
      ],
      "metadata": {
        "id": "lDUOJNpX-nmk"
      },
      "execution_count": null,
      "outputs": []
    },
    {
      "cell_type": "code",
      "source": [
        "# 11. What is the purpose of conditional statement in Python ?\n",
        "'''\n",
        "  Im Python, conditional statements are used to make decisions in a program by\n",
        "  executing different blocks of code based on whether a certain condition is true\n",
        "  or false.\n",
        "\n",
        "  Why use conditional statements\n",
        "  1. Control Flow: Direct the flow of execution based on conditions.\n",
        "  2. Decision Making: Helps the program to make decision at runtime\n",
        "  3. Reduce Repetition: Avoid writing the same code multiple times.\n",
        "\n",
        "  Example:\n",
        "        age = 18\n",
        "        if age >= 18:\n",
        "            print(\"You are eligible to vote.\")\n",
        "        else:\n",
        "            print(\"You are not eligible to vote.\")\n",
        "\n",
        "'''\n"
      ],
      "metadata": {
        "id": "GjLdrclzAOit"
      },
      "execution_count": null,
      "outputs": []
    },
    {
      "cell_type": "code",
      "source": [
        "# 12.  How does the elif statement work ?\n",
        "'''\n",
        "  The elif statement stands for \"else if\". It allows you to check multiple\n",
        "  conditions one after another. As soon as one condition is True, the\n",
        "  corresponding block of code runs, and the rest are skipped.\n",
        "\n",
        "  Example:\n",
        "        score = 85\n",
        "        if score >= 90:\n",
        "            print(\"Grade: A\")\n",
        "        elif score >= 80:\n",
        "            print(\"Grade: B\")\n",
        "        elif score >= 70:\n",
        "            print(\"Grade: C\")\n",
        "'''\n"
      ],
      "metadata": {
        "id": "vBqWXWPXF0C7"
      },
      "execution_count": null,
      "outputs": []
    },
    {
      "cell_type": "code",
      "source": [
        "# What is the difference between for and while loops ?\n",
        "'''\n",
        "  In Python, both for and while loops are used to repeat a block of code multiple\n",
        "  times, but they work differently.\n",
        "\n",
        "  1.(for Loops):\n",
        "    -> Used when you Know how many times you want to repeate something, or when\n",
        "    when iterating  over a sequence (e.g., List, string, or orange).\n",
        "    -> Iterates over elements one by one.\n",
        "\n",
        "  2.(while Loop):\n",
        "    -> Used when you wnat to repeat a block of code until a condition becomes\n",
        "    False.\n",
        "    -> Don't need to know the number of repetition in advance - the loop continues\n",
        "     as long as the condition is true\n",
        "\n",
        "'''"
      ],
      "metadata": {
        "id": "UKIObBMqH7xt"
      },
      "execution_count": null,
      "outputs": []
    },
    {
      "cell_type": "code",
      "source": [
        "#  Describe a scenario where a while loop is more suitable than a for loop.\n",
        "'''\n",
        "  A while loop is more suitable when you don’t know in advance how many times\n",
        "  the loop should run, and you want it to continue until a specific condition\n",
        "  is met.\n",
        "\n",
        "  Imagine you’re building a program that asks the user to enter a password. The\n",
        "  program should keep asking until the correct password is entered. Since you\n",
        "  don’t know how many attempts the user will need, a while loop is perfect!\n",
        "\n",
        "  Example:\n",
        "  password = \"\"\n",
        "  correct_password = \"python123\"\n",
        "\n",
        "  while password != correct_password:\n",
        "      password = input(\"Enter the password: \")\n",
        "\n",
        "  print(\"Access granted!\")\n",
        "\n",
        "'''\n",
        "\n"
      ],
      "metadata": {
        "id": "s7nIRPA7Lrxj"
      },
      "execution_count": null,
      "outputs": []
    },
    {
      "cell_type": "markdown",
      "source": [
        "#Practical Answers"
      ],
      "metadata": {
        "id": "CX9mNAggoau_"
      }
    },
    {
      "cell_type": "code",
      "source": [
        "# 1. Write a Python program to print \"Hello, World!\"\n",
        "print(\"Hello, World!\")"
      ],
      "metadata": {
        "id": "9D0mghmAOIIm",
        "colab": {
          "base_uri": "https://localhost:8080/"
        },
        "outputId": "5ca55669-ba49-41bf-af39-76d3a3ec824e"
      },
      "execution_count": null,
      "outputs": [
        {
          "output_type": "stream",
          "name": "stdout",
          "text": [
            "Hello, World!\n"
          ]
        }
      ]
    },
    {
      "cell_type": "code",
      "source": [
        "# 2. Write a Python program that displays your name and age.\n",
        "\n",
        "name = \"Nitesh dumjan\"\n",
        "age = 22\n",
        "\n",
        "print(f\"My name is {name} and I'm {age} years old.\")"
      ],
      "metadata": {
        "id": "zowgFderohLN"
      },
      "execution_count": null,
      "outputs": []
    },
    {
      "cell_type": "code",
      "source": [
        "# 3. Write code to print all the pre-defined keywords in Python using the keyword library.\n",
        "print(help(\"keywords\"))"
      ],
      "metadata": {
        "colab": {
          "base_uri": "https://localhost:8080/"
        },
        "id": "vjpO_PtQozzU",
        "outputId": "dcd80a79-ff70-4dae-cc66-1d797b31dbc3"
      },
      "execution_count": null,
      "outputs": [
        {
          "output_type": "stream",
          "name": "stdout",
          "text": [
            "\n",
            "Here is a list of the Python keywords.  Enter any keyword to get more help.\n",
            "\n",
            "False               class               from                or\n",
            "None                continue            global              pass\n",
            "True                def                 if                  raise\n",
            "and                 del                 import              return\n",
            "as                  elif                in                  try\n",
            "assert              else                is                  while\n",
            "async               except              lambda              with\n",
            "await               finally             nonlocal            yield\n",
            "break               for                 not                 \n",
            "\n",
            "None\n"
          ]
        }
      ]
    },
    {
      "cell_type": "code",
      "source": [
        "# 4. Write a program that checks if a given word is a Python keyword.\n",
        "\n",
        "import keyword\n",
        "\n",
        "keywords = keyword.kwlist\n",
        "\n",
        "word  = input(\"Enter a word: \");\n",
        "if word in keywords:\n",
        "  print(word, \"is a Python keyword.\");\n",
        "else:\n",
        "  print(word, \"is not a Python keyword.\");"
      ],
      "metadata": {
        "id": "NKYhlqbxpjUo"
      },
      "execution_count": null,
      "outputs": []
    },
    {
      "cell_type": "code",
      "source": [
        "# 5. Create a list and tuple in Python, and demonstrate how attempting to change an element works differently\n",
        "#    for each.\n",
        "\n",
        "# LIST: We can change an elemnt in list because it is mutabale.\n",
        "my_list = [1, 2, 3, 4, 5]\n",
        "my_list[2] = 23\n",
        "print(my_list)\n",
        "\n",
        "# TUPLE> We cannot change an element in tuples because it is immutable.\n",
        "# The following code will show error\n",
        "my_tuple = (1, 2, 3, 4, 5)\n",
        "my_tuple[0] = 77\n",
        "print(my_tuple)"
      ],
      "metadata": {
        "id": "htk4sO3Ls1VR"
      },
      "execution_count": null,
      "outputs": []
    },
    {
      "cell_type": "code",
      "source": [
        "# 6. Write a function to demonstrate the behavior of mutable and immutable arguments.\n",
        "\n",
        "def demonstrate_mutable_immutable(mut_list, imm_value):\n",
        "    print(\"Before modification:\")\n",
        "    print(f\"Mutable (list): {mut_list}\");\n",
        "    print(f\"Immutable (int): {imm_value}\")\n",
        "\n",
        "    # Modifying mutable argument (list)\n",
        "    mut_list.append(100)\n",
        "\n",
        "    # Modifying immutable argument (int)\n",
        "    imm_value += 100;\n",
        "\n",
        "    print(\"\\nAfter modification:\")\n",
        "    print(f\"Mutable (list): {mut_list}\")\n",
        "    print(f\"Immutable (int): {imm_value}\")\n",
        "\n",
        "# Example usage:\n",
        "mutable_list = [1, 2, 3]\n",
        "immutable_int = 10\n",
        "\n",
        "demonstrate_mutable_immutable(mutable_list, immutable_int)\n",
        "\n"
      ],
      "metadata": {
        "id": "Z2Ywkr6YtAx2",
        "colab": {
          "base_uri": "https://localhost:8080/"
        },
        "outputId": "b2b4e014-cf92-4033-98f7-d35d0222113a"
      },
      "execution_count": null,
      "outputs": [
        {
          "output_type": "stream",
          "name": "stdout",
          "text": [
            "Before modification:\n",
            "Mutable (list): [1, 2, 3]\n",
            "Immutable (int): 10\n",
            "\n",
            "After modification:\n",
            "Mutable (list): [1, 2, 3, 100]\n",
            "Immutable (int): 110\n"
          ]
        }
      ]
    },
    {
      "cell_type": "code",
      "source": [
        "# 7. Write a function to demonstrate the behavior of mutable and immutable arguments.\n"
      ],
      "metadata": {
        "id": "5gZnH2p5fM2v"
      },
      "execution_count": null,
      "outputs": []
    },
    {
      "cell_type": "code",
      "source": [
        "# 8.  Write a program to demonstrate the use of logical operators.\n",
        "\n",
        "# Input from the user\n",
        "x = int(input(\"Enter a number for x: \"))\n",
        "y = int(input(\"Enter a number for y: \"))\n",
        "\n",
        "# Demonstrate 'and' operator\n",
        "print(f\"\\n Demonstrate 'and' operator: \")\n",
        "if x > 0 and y > 0:\n",
        "    print(f\"{x} and {y} are both positive.\");\n",
        "else:\n",
        "  print(f\"{x} and {y} are both not positive\");\n",
        "\n",
        "# Demonstrate 'or' operator:\n",
        "print(f\"\\n Demonstrate 'or' operator: \")\n",
        "if x > 0 or y>0:\n",
        "  print(f\"At least one of {x} and {y} is positive.\");\n",
        "else:\n",
        "  print(f\"{x} and {y} are both negative.\");\n",
        "\n",
        "# Demonstrating 'not' Operatro:\n",
        "print(f\"\\n Demonstrate 'not' operator: \")\n",
        "if not (x<0) and not(y<0):\n",
        "  print(f\"{x} and {y} are both positive.\");\n",
        "else:\n",
        "  print(f\"{x} and {y} are both not positive\");"
      ],
      "metadata": {
        "colab": {
          "base_uri": "https://localhost:8080/"
        },
        "id": "aEBh89usaplt",
        "outputId": "9b7b5c4c-510c-40c7-c1a4-c557e4fc2ca1"
      },
      "execution_count": null,
      "outputs": [
        {
          "output_type": "stream",
          "name": "stdout",
          "text": [
            "Enter a number for x: 21\n",
            "Enter a number for y: -7\n",
            "\n",
            " Demonstrate 'and' operator: \n",
            "21 and -7 are both not positive\n",
            "\n",
            " Demonstrate 'or' operator: \n",
            "At least one of 21 and -7 is positive.\n",
            "\n",
            " Demonstrate 'not' operator: \n",
            "21 and -7 are both not positive\n"
          ]
        }
      ]
    },
    {
      "cell_type": "code",
      "source": [
        "#  9. Write a Python program to convert user input from string to integer, float,\n",
        "#  and boolean types.\n",
        "\n",
        "print(f\"\\n Convert to Integer Value\")\n",
        "user_input = input(\"Enter The string to convert\");\n",
        "num = int(user_input)\n",
        "print(f\"Integr Value: {num}\");\n",
        "print(type(num))\n",
        "\n",
        "print(f\"\\n Convert to float Value\")\n",
        "float_num = float(user_input)\n",
        "print(f\"float Value: {float_num}\");\n",
        "print(type(float_num))\n",
        "\n",
        "print(f\"\\n Convert to Boolean Value\")\n",
        "bool_value = bool(user_input)\n",
        "print(f\"Boolean Value: {bool_value}\");\n",
        "print(type(bool_value))"
      ],
      "metadata": {
        "id": "brhWRb4gfaJW",
        "colab": {
          "base_uri": "https://localhost:8080/"
        },
        "outputId": "933ae5b9-0bc8-4780-8947-a5089086a1e7"
      },
      "execution_count": 4,
      "outputs": [
        {
          "output_type": "stream",
          "name": "stdout",
          "text": [
            "\n",
            " Convert to Integer Value\n",
            "Enter The string to convert123\n",
            "Integr Value: 123\n",
            "<class 'int'>\n",
            "\n",
            " Convert to float Value\n",
            "float Value: 123.0\n",
            "<class 'float'>\n",
            "\n",
            " Convert to Boolean Value\n",
            "Boolean Value: True\n",
            "<class 'bool'>\n"
          ]
        }
      ]
    },
    {
      "cell_type": "code",
      "source": [
        "# 10. Write code to demonstrate type casting with list elements.\n",
        "\n",
        "# Example list with mixed data types\n",
        "mixed_list = ['1', '2', '3', 4, 5.6, '7.8']\n",
        "\n",
        "# Convert all elements to integers (if possible)\n",
        "int_list = [int(float(item)) for item in mixed_list]\n",
        "print(\"Integer List:\", int_list)\n",
        "\n",
        "# Convert all elements to floats\n",
        "float_list = [float(item) for item in mixed_list]\n",
        "print(\"Float List:\", float_list)\n",
        "\n",
        "# Convert all elements to strings\n",
        "string_list = [str(item) for item in mixed_list]\n",
        "print(\"String List:\", string_list)\n",
        "\n",
        "# Convert all elements to boolean\n",
        "bool_list = [bool(item) for item in mixed_list]\n",
        "print(\"Boolean List:\", bool_list)\n",
        "\n",
        "\n",
        "\n",
        "\n"
      ],
      "metadata": {
        "colab": {
          "base_uri": "https://localhost:8080/"
        },
        "id": "FekVkDsdVoJc",
        "outputId": "a98d8298-5a81-4406-c3e4-3f76f0f7901c"
      },
      "execution_count": 14,
      "outputs": [
        {
          "output_type": "stream",
          "name": "stdout",
          "text": [
            "Integer List: [1, 2, 3, 4, 5, 7]\n",
            "Float List: [1.0, 2.0, 3.0, 4.0, 5.6, 7.8]\n",
            "String List: ['1', '2', '3', '4', '5.6', '7.8']\n",
            "Boolean List: [True, True, True, True, True, True]\n"
          ]
        }
      ]
    },
    {
      "cell_type": "code",
      "source": [
        "# 11. Write a program that checks if a number is positive, negative, or zero.\n",
        "\n",
        "Number = int(input(\"Enter the Number: \"));\n",
        "\n",
        "if Number > 0:\n",
        "  print(f\"{Number} is Positive Number\");\n",
        "elif Number < 0:\n",
        "  print(f\"{Number} is Negative Number\");\n",
        "else:\n",
        "  print(f\"{Number} is Zero\");"
      ],
      "metadata": {
        "colab": {
          "base_uri": "https://localhost:8080/"
        },
        "id": "aDWQfq27edq3",
        "outputId": "ff47e99a-8009-4c96-f731-1bc22d3ac7a2"
      },
      "execution_count": 19,
      "outputs": [
        {
          "output_type": "stream",
          "name": "stdout",
          "text": [
            "Enter the Number: 0\n",
            "0 is Zero\n"
          ]
        }
      ]
    },
    {
      "cell_type": "code",
      "source": [
        "#  Write a for loop to print numbers from 1 to 100.\n",
        "for i in range(0, 11):\n",
        "  print(i)\n"
      ],
      "metadata": {
        "colab": {
          "base_uri": "https://localhost:8080/"
        },
        "id": "6eL8EFamfLDw",
        "outputId": "70970475-f54a-444a-f547-0009dc0bb09b"
      },
      "execution_count": 24,
      "outputs": [
        {
          "output_type": "stream",
          "name": "stdout",
          "text": [
            "0\n",
            "1\n",
            "2\n",
            "3\n",
            "4\n",
            "5\n",
            "6\n",
            "7\n",
            "8\n",
            "9\n",
            "10\n"
          ]
        }
      ]
    },
    {
      "cell_type": "code",
      "source": [
        "# Write a Python program to find the sum of all even numbers between 1 and 500;\n",
        "\n",
        "sum = 0;\n",
        "\n",
        "for i in range (0, 51):\n",
        "  if i % 2 == 0:\n",
        "    sum += i;\n",
        "print(f\"Sum of all even numbers between 1 and 500 is: {sum}\");\n",
        "\n",
        "\n",
        "\n",
        "\n"
      ],
      "metadata": {
        "colab": {
          "base_uri": "https://localhost:8080/"
        },
        "id": "ZE_MToLmgsaD",
        "outputId": "3bddad6e-a025-40be-9d04-ddd1aa56e24a"
      },
      "execution_count": 29,
      "outputs": [
        {
          "output_type": "stream",
          "name": "stdout",
          "text": [
            "Sum of all even numbers between 1 and 500 is: 650\n"
          ]
        }
      ]
    },
    {
      "cell_type": "code",
      "source": [
        "# 14. Write a program to reverse a string using a while loop.\n",
        "\n",
        "def reverse_string(s):\n",
        "  reverse_str = \"\"\n",
        "  i = len(s) -1\n",
        "  while i >=0:\n",
        "    reverse_str += s[i]\n",
        "    i -= 1\n",
        "  return reverse_str\n",
        "\n",
        "reverse_string(\"Nitesh dumjan\")"
      ],
      "metadata": {
        "colab": {
          "base_uri": "https://localhost:8080/",
          "height": 36
        },
        "id": "UTGyV4l2jm4-",
        "outputId": "c5c36da3-c483-44aa-945c-ad70f80739a6"
      },
      "execution_count": 40,
      "outputs": [
        {
          "output_type": "execute_result",
          "data": {
            "text/plain": [
              "'najmud hsetiN'"
            ],
            "application/vnd.google.colaboratory.intrinsic+json": {
              "type": "string"
            }
          },
          "metadata": {},
          "execution_count": 40
        }
      ]
    },
    {
      "cell_type": "code",
      "source": [
        "# 15. Write a Python program to calculate the factorial of a number provided by the user using a while loop.\n",
        "\n",
        "num  = int(input(\"Enter a Number: \"));\n",
        "\n",
        "fact = 1;\n",
        "i = 1\n",
        "while i <= num:\n",
        "  fact *= i\n",
        "  i += 1\n",
        "print(f\"Factorial of {num} is {fact}\");\n",
        "\n",
        "\n"
      ],
      "metadata": {
        "colab": {
          "base_uri": "https://localhost:8080/"
        },
        "id": "Pbdh7WL8uUlK",
        "outputId": "a453afcc-7696-40a1-dd6d-329494c1823c"
      },
      "execution_count": 44,
      "outputs": [
        {
          "output_type": "stream",
          "name": "stdout",
          "text": [
            "Enter a Number: 5\n",
            "Factorial of 5 is 120\n"
          ]
        }
      ]
    }
  ]
}